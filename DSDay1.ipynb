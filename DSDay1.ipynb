{
  "nbformat": 4,
  "nbformat_minor": 0,
  "metadata": {
    "colab": {
      "provenance": [],
      "authorship_tag": "ABX9TyMeedjFFJMrRnOB97lFgPq3",
      "include_colab_link": true
    },
    "kernelspec": {
      "name": "python3",
      "display_name": "Python 3"
    },
    "language_info": {
      "name": "python"
    }
  },
  "cells": [
    {
      "cell_type": "markdown",
      "metadata": {
        "id": "view-in-github",
        "colab_type": "text"
      },
      "source": [
        "<a href=\"https://colab.research.google.com/github/taliahtarik/dsprojectjterm/blob/main/DSDay1.ipynb\" target=\"_parent\"><img src=\"https://colab.research.google.com/assets/colab-badge.svg\" alt=\"Open In Colab\"/></a>"
      ]
    },
    {
      "cell_type": "code",
      "source": [
        "from IPython.display import display, HTML\n",
        "\n",
        "table_html = \"\"\"\n",
        "<table>\n",
        "  <tr>\n",
        "    <th>Variable</th>\n",
        "    <th>Description</th>\n",
        "  </tr>\n",
        "  <tr>\n",
        "    <td>Hospital Name</td>\n",
        "    <td>Name of the hospital</td>\n",
        "  </tr>\n",
        "  <tr>\n",
        "    <td>Readmission Rate (%)</td>\n",
        "    <td>Percentage of patients readmitted within 30 days</td>\n",
        "  </tr>\n",
        "  <tr>\n",
        "    <td>Region</td>\n",
        "    <td>Geographical location of the hospital</td>\n",
        "  </tr>\n",
        "  <tr>\n",
        "    <td>Age Group</td>\n",
        "    <td>Age categories of patients</td>\n",
        "  </tr>\n",
        "  <tr>\n",
        "    <td>Diagnosis</td>\n",
        "    <td>Primary condition of the patient</td>\n",
        "  </tr>\n",
        "</table>\n",
        "\"\"\"\n",
        "display(HTML(table_html))"
      ],
      "metadata": {
        "colab": {
          "base_uri": "https://localhost:8080/",
          "height": 147
        },
        "id": "MwFxlpBGvNk7",
        "outputId": "4dc1bca5-2b71-4662-8d89-33fd25b82f78"
      },
      "execution_count": 3,
      "outputs": [
        {
          "output_type": "display_data",
          "data": {
            "text/plain": [
              "<IPython.core.display.HTML object>"
            ],
            "text/html": [
              "\n",
              "<table>\n",
              "  <tr>\n",
              "    <th>Variable</th>\n",
              "    <th>Description</th>\n",
              "  </tr>\n",
              "  <tr>\n",
              "    <td>Hospital Name</td>\n",
              "    <td>Name of the hospital</td>\n",
              "  </tr>\n",
              "  <tr>\n",
              "    <td>Readmission Rate (%)</td>\n",
              "    <td>Percentage of patients readmitted within 30 days</td>\n",
              "  </tr>\n",
              "  <tr>\n",
              "    <td>Region</td>\n",
              "    <td>Geographical location of the hospital</td>\n",
              "  </tr>\n",
              "  <tr>\n",
              "    <td>Age Group</td>\n",
              "    <td>Age categories of patients</td>\n",
              "  </tr>\n",
              "  <tr>\n",
              "    <td>Diagnosis</td>\n",
              "    <td>Primary condition of the patient</td>\n",
              "  </tr>\n",
              "</table>\n"
            ]
          },
          "metadata": {}
        }
      ]
    },
    {
      "cell_type": "markdown",
      "source": [],
      "metadata": {
        "id": "cy2KZCVxswiI"
      }
    }
  ]
}